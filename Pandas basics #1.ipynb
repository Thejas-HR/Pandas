{
 "cells": [
  {
   "cell_type": "code",
   "execution_count": 1,
   "id": "7c60a374",
   "metadata": {},
   "outputs": [
    {
     "name": "stdout",
     "output_type": "stream",
     "text": [
      "   Day  Visitors  Bounce_rate\n",
      "0    1        12           86\n",
      "1    2        34           32\n",
      "2    3        56           28\n",
      "3    4        78           65\n",
      "4    5        54           33\n",
      "5    6        87           21\n"
     ]
    }
   ],
   "source": [
    "import pandas as pd\n",
    "import matplotlib.pyplot as plt\n",
    "from matplotlib import style\n",
    "style.use('ggplot')\n",
    "\n",
    "\n",
    "web_stats = {'Day' : [1,2,3,4,5,6],\n",
    "              'Visitors' : [12,34,56,78,54,87],\n",
    "                'Bounce_rate' : [86,32,28,65,33,21]}\n",
    "\n",
    "df = pd.DataFrame(web_stats)\n",
    "\n",
    "print(df)"
   ]
  },
  {
   "cell_type": "code",
   "execution_count": 4,
   "id": "1fc732c7",
   "metadata": {},
   "outputs": [
    {
     "name": "stdout",
     "output_type": "stream",
     "text": [
      "   Day  Visitors  Bounce_rate\n",
      "0    1        12           86\n",
      "1    2        34           32\n",
      "2    3        56           28\n",
      "3    4        78           65\n",
      "4    5        54           33\n"
     ]
    }
   ],
   "source": [
    "print(df.head())"
   ]
  },
  {
   "cell_type": "code",
   "execution_count": 5,
   "id": "4e47d096",
   "metadata": {},
   "outputs": [
    {
     "name": "stdout",
     "output_type": "stream",
     "text": [
      "   Day  Visitors  Bounce_rate\n",
      "1    2        34           32\n",
      "2    3        56           28\n",
      "3    4        78           65\n",
      "4    5        54           33\n",
      "5    6        87           21\n"
     ]
    }
   ],
   "source": [
    "print(df.tail())"
   ]
  },
  {
   "cell_type": "code",
   "execution_count": 8,
   "id": "a2368841",
   "metadata": {},
   "outputs": [
    {
     "name": "stdout",
     "output_type": "stream",
     "text": [
      "     Visitors  Bounce_rate\n",
      "Day                       \n",
      "1          12           86\n",
      "2          34           32\n",
      "3          56           28\n",
      "4          78           65\n",
      "5          54           33\n",
      "6          87           21\n"
     ]
    }
   ],
   "source": [
    "# by default date will be taken as index also we can the set the index\n",
    "\n",
    "print(df.set_index('Day'))"
   ]
  },
  {
   "cell_type": "code",
   "execution_count": 9,
   "id": "4b0a75ca",
   "metadata": {},
   "outputs": [
    {
     "name": "stdout",
     "output_type": "stream",
     "text": [
      "   Day  Visitors  Bounce_rate\n",
      "0    1        12           86\n",
      "1    2        34           32\n",
      "2    3        56           28\n",
      "3    4        78           65\n",
      "4    5        54           33\n"
     ]
    }
   ],
   "source": [
    "print(df.head())"
   ]
  },
  {
   "cell_type": "markdown",
   "id": "5a25d11c",
   "metadata": {},
   "source": [
    "I just gave **Day** as as index but where did it gooo,\n",
    "exactly, above it just returned the data frame\n",
    "\n",
    "incase if you want it to takes place you can direct the result to new data frame\n",
    "\n",
    "**df2** = df.set_index('Day')\n",
    "\n",
    "or\n",
    "\n",
    "print(df.set_index('Day', **inplace = True**))"
   ]
  },
  {
   "cell_type": "markdown",
   "id": "23cacf0f",
   "metadata": {},
   "source": [
    "## To reference a specify col"
   ]
  },
  {
   "cell_type": "code",
   "execution_count": 15,
   "id": "4319b324",
   "metadata": {},
   "outputs": [
    {
     "name": "stdout",
     "output_type": "stream",
     "text": [
      "0    12\n",
      "1    34\n",
      "2    56\n",
      "3    78\n",
      "4    54\n",
      "5    87\n",
      "Name: Visitors, dtype: int64\n"
     ]
    }
   ],
   "source": [
    "print(df['Visitors'])"
   ]
  },
  {
   "cell_type": "code",
   "execution_count": 16,
   "id": "6504ec4b",
   "metadata": {},
   "outputs": [
    {
     "name": "stdout",
     "output_type": "stream",
     "text": [
      "0    1\n",
      "1    2\n",
      "2    3\n",
      "3    4\n",
      "4    5\n",
      "5    6\n",
      "Name: Day, dtype: int64\n"
     ]
    }
   ],
   "source": [
    "print(df['Day'])"
   ]
  },
  {
   "cell_type": "code",
   "execution_count": 18,
   "id": "aafce487",
   "metadata": {},
   "outputs": [
    {
     "name": "stdout",
     "output_type": "stream",
     "text": [
      "0    86\n",
      "1    32\n",
      "2    28\n",
      "3    65\n",
      "4    33\n",
      "5    21\n",
      "Name: Bounce_rate, dtype: int64\n"
     ]
    }
   ],
   "source": [
    "print(df['Bounce_rate'])"
   ]
  },
  {
   "cell_type": "code",
   "execution_count": 19,
   "id": "bde77a67",
   "metadata": {},
   "outputs": [
    {
     "name": "stdout",
     "output_type": "stream",
     "text": [
      "0    12\n",
      "1    34\n",
      "2    56\n",
      "3    78\n",
      "4    54\n",
      "5    87\n",
      "Name: Visitors, dtype: int64\n"
     ]
    }
   ],
   "source": [
    "# or also we can use the below method \n",
    "\n",
    "print(df.Visitors)"
   ]
  },
  {
   "cell_type": "markdown",
   "id": "548c204d",
   "metadata": {},
   "source": [
    "## Referencing multiple column"
   ]
  },
  {
   "cell_type": "code",
   "execution_count": 21,
   "id": "5a057809",
   "metadata": {},
   "outputs": [
    {
     "name": "stdout",
     "output_type": "stream",
     "text": [
      "   Visitors  Bounce_rate\n",
      "0        12           86\n",
      "1        34           32\n",
      "2        56           28\n",
      "3        78           65\n",
      "4        54           33\n",
      "5        87           21\n"
     ]
    }
   ],
   "source": [
    "print(df[['Visitors','Bounce_rate']])"
   ]
  },
  {
   "cell_type": "code",
   "execution_count": null,
   "id": "902a731f",
   "metadata": {},
   "outputs": [],
   "source": []
  }
 ],
 "metadata": {
  "kernelspec": {
   "display_name": "Python 3",
   "language": "python",
   "name": "python3"
  },
  "language_info": {
   "codemirror_mode": {
    "name": "ipython",
    "version": 3
   },
   "file_extension": ".py",
   "mimetype": "text/x-python",
   "name": "python",
   "nbconvert_exporter": "python",
   "pygments_lexer": "ipython3",
   "version": "3.8.8"
  }
 },
 "nbformat": 4,
 "nbformat_minor": 5
}
